{
 "cells": [
  {
   "cell_type": "markdown",
   "metadata": {},
   "source": [
    "# Apa saja yang dibahas dalam project ini?\n",
    "Project ini berupa tes terkait kemampuan data science yang terdiri atas empat tes, yaitu:\n",
    "\n",
    "1. Tes Probabilitas, yang dirancang untuk memperlihatkan kemampuan member dalam mengkoseptualisasikan pengetahuan dalam      bidang probabilitas.\n",
    "2. Tes Statistik, yang dirancang untuk memperlihatkan pengetahuan member terkait dasar-dasar ilmu statistik.\n",
    "3. Tes Interpretasi Model, yang dirancang untuk memperlihatkan kemampuan member dalam memberikan insight/kesimpulan dan      pengambilan keputusan pendukung terkait dengan model yang dibangun melalui penerapan data science.\n",
    "4. Tes Pemograman, yang dirancang untuk memperlihatkan kemampuan member dalam menrepakan logical thinking (berfikir logis)    melalui kode-kode program yang ditanyakan. Bahasa pemrograman yang digunakan adalah Python."
   ]
  },
  {
   "cell_type": "markdown",
   "metadata": {},
   "source": [
    "# Kompetisi Rugby\n",
    "Terdapat 23 tim rugby yang sedang bermain dalam sebuah turnamen. Berapakah banyaknya pertandingan yang harus dimainkan agar diketahui siapa pemenangnya? \n",
    "\n",
    "a. 11\n",
    "\n",
    "b. 12\n",
    "\n",
    "c. 22 Benar\n",
    "\n",
    "d. 23"
   ]
  },
  {
   "cell_type": "markdown",
   "metadata": {},
   "source": [
    "# Bintang Berekor\n",
    "Setiap interval 15 menit, terdapat 20% probabilitas bahwa Anda dapat melihat satu bintang berekor. Berapakah probabilitasnya Anda dapat melihat setidaknya satu bintang berekor tiap satu jam?\n",
    "\n",
    "a. 0.5904 Benar\n",
    "\n",
    "b. 0.4096\n",
    "\n",
    "c. 0.8\n",
    "\n",
    "d. 0.2"
   ]
  },
  {
   "cell_type": "markdown",
   "metadata": {},
   "source": [
    "# Statistik Deskriptif\n",
    "Manakah pernyataan yang benar dari pilihan di bawah ini\n",
    "\n",
    "a. Rata-rata adalah ukuran tendensi pusat suatu data\n",
    "\n",
    "b. Rata-rata empiris berhubungan dengan pemusatan variabel acak\n",
    "\n",
    "c. Standar deviasi empiris mengukur besarnya sebaran data\n",
    "\n",
    "d. Semua benar Benar"
   ]
  },
  {
   "cell_type": "markdown",
   "metadata": {},
   "source": [
    "# Algoritma mana ya?\n",
    "Setelah mengkaji perilaku sebuah populasi, Anda telah mengidentifikasi empat jenis individu spesifik yang bernilai pada kajian Anda. Anda akan menentukan semua pengguna yang paling serupa untuk setiap jenis individu itu. Algoritma manakah yang paling cocok untuk kajian ini?\n",
    "\n",
    "Pilihlah satu jawaban yang benar.\n",
    "\n",
    "a. K-means clustering Benar\n",
    "\n",
    "b. Linear regression\n",
    "\n",
    "c. Association rules\n",
    "\n",
    "d. Decision trees"
   ]
  },
  {
   "cell_type": "markdown",
   "metadata": {},
   "source": [
    "# Regresi Linier\n",
    "Dengan menambahkan fitur yang tidak penting ke model regresi yang telah dibuat akan menghasilkan \n",
    "\n",
    "1. Kenaikan nilai R-square\n",
    "2. Penurunan nilai R-square\n",
    "\n",
    "Manakah pernyataan 1 atau 2 yang benar?\n",
    "\n",
    "a. Hanya 1 yang benar Benar\n",
    "\n",
    "b. Hanya 2 yang benar\n",
    "\n",
    "c. Keduanya benar\n",
    "\n",
    "d. Keduanya tidak benar"
   ]
  },
  {
   "cell_type": "markdown",
   "metadata": {},
   "source": [
    "# Boosting!\n",
    "Manakah yang termasuk dari algoritma berikut yang merupakan sub-kelas largest boost dalam keluarga algoritma boosting?\n",
    "\n",
    "a. variance boosting\n",
    "\n",
    "b. gradient boosting Benar\n",
    "\n",
    "c. mean boosting\n",
    "\n",
    "d. Semuanya"
   ]
  },
  {
   "cell_type": "markdown",
   "metadata": {},
   "source": [
    "# Cross-validation\n",
    "Untuk k cross-validation, semakin besar nilai k menghasilkan bias yang lebih besar juga.\n",
    "\n",
    "Benar atau salahkah pernyataan di atas?\n",
    "\n",
    "a. Benar Benar\n",
    "\n",
    "b. Salah"
   ]
  },
  {
   "attachments": {},
   "cell_type": "markdown",
   "metadata": {},
   "source": [
    "# Binary Classification\n",
    "Jika Anda bekerja pada suatu proyek yang menggunakan permasalahan binary classification. Kemudian, Anda mentraining sebuah model pada training dataset dan kemudian memperoleh confusion matrix setelah menerapkannya pada validation dataset, berikut ini\n",
    "\n",
    "\n",
    "\n",
    "Berdasarkan pada confusion matrix tersebut, pilihlah jawaban berikut ini mana yang memberikan prediksi yang benar?\n",
    "\n",
    "1. Accuracy adalah ~0.91\n",
    "2. Misclassification rate adalah ~ 0.91\n",
    "3. False-positive rate adalah ~0.95\n",
    "4. True positive rate adalah ~0.95\n",
    "\n",
    "a. 1 dan 3\n",
    "\n",
    "b. 2 dan 4\n",
    "\n",
    "c. 1 dan 4 Benar\n",
    "\n",
    "d. 2 dan 3"
   ]
  },
  {
   "cell_type": "markdown",
   "metadata": {},
   "source": [
    "# Dict data type!\n",
    "Tuliskanlah kode python di code editor yang akan menyatukan tiga dictionary berikut \n",
    "\n",
    "dic1 = {1:10, 2:20}\n",
    "dic2 = {3:30, 4:40}\n",
    "dic3 = {5:50, 6:60}\n",
    "menjadi satu dictionary dalam dic4\n",
    "\n",
    "Gantilah _ _ _ dengan fungsi/literal/variabel yang sesuai\n",
    " \n",
    "Klik Submit untuk melanjutkan."
   ]
  },
  {
   "cell_type": "code",
   "execution_count": 2,
   "metadata": {},
   "outputs": [
    {
     "name": "stdout",
     "output_type": "stream",
     "text": [
      "{1: 10, 2: 20, 3: 30, 4: 40, 5: 50, 6: 60}\n"
     ]
    }
   ],
   "source": [
    "dic1 = {1:10, 2:20}\n",
    "dic2 = {3:30, 4:40}\n",
    "dic3 = {5:50, 6:60}\n",
    "dic4 = {}\n",
    "for x in (dic1, dic2, dic3):\n",
    "    dic4.update(x)\n",
    "print(dic4)"
   ]
  },
  {
   "cell_type": "markdown",
   "metadata": {},
   "source": [
    "# Jumlah 7 Deret Pertama Fibonacci\n",
    "Tulislah sebuah fungsi Python yang digunakan untuk menghitung n deret pertama Fibonacci yang dimulai dari 0.\n",
    "\n",
    "Input  :  n = 7\n",
    "Output :  33\n",
    "Gantilah _ _ _ dengan fungsi/literal/variabel yang sesuai\n",
    "\n",
    "Klik Submit untuk melanjutkan."
   ]
  },
  {
   "cell_type": "code",
   "execution_count": 3,
   "metadata": {},
   "outputs": [
    {
     "name": "stdout",
     "output_type": "stream",
     "text": [
      "33\n"
     ]
    }
   ],
   "source": [
    "# Buat fungsi penjumlahan deret Fibonacci\n",
    "def calculateSum(n):\n",
    "    if n <= 0:\n",
    "        return 0\n",
    "    fibo = [0] * (n + 1)\n",
    "    fibo[1] = 1\n",
    "    # Initialisasi hasil ke dalam variabel sm\n",
    "    sm = fibo[0] + fibo[1]\n",
    "    # Tambahkan suku-suku berikutnya\n",
    "    for i in range(2, n + 1):\n",
    "        fibo[i] = fibo[i - 1] + fibo[i - 2]\n",
    "        sm += fibo[i]\n",
    "    return sm\n",
    "# Evaluasi hasil deret untuk n = 7    \n",
    "print(calculateSum(7))"
   ]
  },
  {
   "cell_type": "markdown",
   "metadata": {},
   "source": [
    "# Penutup Project ini.\n",
    "Selamat! Kamu telah berhasil menyelesaikan project ini.\n",
    "\n",
    "Dengan menyelesaikan project ini, kamu memperlihatkan:\n",
    "\n",
    "Kemampuan untuk mengkonseptualisasikan pengetahuan dalam bidang probabilitas\n",
    "Kemampuan memahami dasar-dasar ilmu statistika\n",
    "Kemampuan memberikan insight/kesimpulan dan pengambilan keputusan pendukung terkait model yang dibangun melalui penerapan data science\n",
    "Menerapkan logical thinking (berpikir logis) lewat kode-kode program yang ditanyakan menggunakan Python\n",
    " \n",
    "\n",
    "Semangat selalu untuk terus belajar!"
   ]
  }
 ],
 "metadata": {
  "kernelspec": {
   "display_name": "Python 3",
   "language": "python",
   "name": "python3"
  },
  "language_info": {
   "codemirror_mode": {
    "name": "ipython",
    "version": 3
   },
   "file_extension": ".py",
   "mimetype": "text/x-python",
   "name": "python",
   "nbconvert_exporter": "python",
   "pygments_lexer": "ipython3",
   "version": "3.8.5"
  }
 },
 "nbformat": 4,
 "nbformat_minor": 4
}
