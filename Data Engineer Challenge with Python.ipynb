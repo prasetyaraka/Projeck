{
 "cells": [
  {
   "cell_type": "markdown",
   "metadata": {},
   "source": [
    "# Apa saja yang dibahas dalam project ini?\n",
    "Project ini berupa tes untuk melihat kemampuan kamu dalam mulai berkarir menjadi Data Engineer. Tes ini terdiri atas 2 (dua) bagian, yaitu: \n",
    "\n",
    "1. Web Scraping, yang dirancang untuk memperlihatkan kemampuan member dalam mengambil data dari website dalam bentuk data    HTML\n",
    "2. Function and Regular Expression, yang dirancang untuk memperlihatkan pengetahuan member terkait dasar-dasar pembuatan      sebuah function dan penggunaan Regular Expression dalam bahasa pemrograman Python.\n"
   ]
  },
  {
   "cell_type": "markdown",
   "metadata": {},
   "source": [
    "# Web Scraping\n",
    "Sebagai seorang Data Engineer, Anda diminta untuk menggali informasi dari https://id.wikipedia.org/wiki/Demografi_Indonesia menggunakan bahasa pemrograman Python. \n",
    "\n",
    "Buatlah suatu script Python untuk menyimpan tabel \"Jumlah Penduduk menurut Provinsi\" dari web tersebut dengan format CSV.\n",
    "\n",
    "File CSV menggunakan format double-apostrophe quoting (\") dan disimpan dengan nama \"Indonesia_Demography_by_Province.csv\"\n",
    "\n",
    "Kolom yang perlu Anda ambil adalah sebagai berikut.\n",
    "\n",
    "+ Kode BPS\n",
    "+ Nama\n",
    "+ Ibu Kota\n",
    "+ Populasi\n",
    "+ Luas km\n",
    "+ Pulau"
   ]
  },
  {
   "cell_type": "code",
   "execution_count": 8,
   "metadata": {},
   "outputs": [],
   "source": [
    "#import library yang dibutuhkan\n",
    "import pandas as pd\n",
    "import requests\n",
    "from bs4 import BeautifulSoup\n",
    "\n",
    "#buatlah request ke website\n",
    "website_url = requests.get('https://id.wikipedia.org/wiki/Demografi_Indonesia').text\n",
    "soup = BeautifulSoup(website_url, 'lxml')\n",
    "\n",
    "#ambil table dengan class 'wikitable sortable'\n",
    "my_table = soup.find('table', {'class':'wikitable sortable'})\n",
    "\n",
    "#cari data dengan tag 'td'\n",
    "links = my_table.findAll('td')\n",
    "\n",
    "#buatlah lists kosong\n",
    "kode_bps = []\n",
    "nama = []\n",
    "ibu_kota = []\n",
    "populasi = []\n",
    "luas_km = []\n",
    "pulau = []\n",
    "\n",
    "#memasukkan data ke dalam list berdasarkan pola HTML\n",
    "for i, link in enumerate(links):\n",
    "  if i in range(0, len(links), 9):\n",
    "  \tkode_bps.append(link.get_text())\n",
    "  if i in range(2, len(links), 9):\n",
    "  \tnama.append(link.get_text())\n",
    "  if i in range(4, len(links), 9):\n",
    "  \tibu_kota.append(link.get_text())\n",
    "  if i in range(5, len(links), 9):\n",
    "  \tpopulasi.append(link.get_text())\n",
    "  if i in range(6, len(links), 9):\n",
    "  \tluas_km.append(link.get_text())\n",
    "  if i in range(8, len(links), 9):\n",
    "  \tpulau.append(link.get_text()[:-1])\n",
    "#buatlah DatFrame dan masukkan ke CSV\n",
    "df = pd.DataFrame()\n",
    "df['Kode BPS'] = kode_bps\n",
    "df['Nama'] = nama\n",
    "df['Ibu Kota'] = ibu_kota\n",
    "df['Populasi'] = populasi\n",
    "df['Luas km'] = luas_km\n",
    "df['Pulau'] = pulau\n",
    "df.to_csv('Indonesia_Demography_by_Province.csv', index=False, encoding='utf-8', quoting=1)"
   ]
  },
  {
   "cell_type": "code",
   "execution_count": 7,
   "metadata": {},
   "outputs": [
    {
     "name": "stdout",
     "output_type": "stream",
     "text": [
      "Not Pass\n",
      "Pass\n",
      "Pass\n",
      "Pass\n",
      "Not Pass\n",
      "Not Pass\n",
      "Pass\n",
      "Not Pass\n",
      "Not Pass\n"
     ]
    }
   ],
   "source": [
    "#import library yang dibutuhkan\n",
    "import re\n",
    "\n",
    "#function email_check\n",
    "def email_check(input):\n",
    "    match = re.search('(?=^((?!-).)*$)(?=[^0-9])((?=^((?!\\.\\d).)*$)|(?=.*_))',input)\n",
    "    if match:\n",
    "  \t    print('Pass')\n",
    "    else:\n",
    "  \t    print('Not Pass')\n",
    "\n",
    "#Masukkan daftar email ke dalam list\n",
    "emails = ['my-name@someemail.com', 'myname@someemail.com','my.name@someemail.com',\n",
    "'my.name2019@someemail.com', 'my.name.2019@someemail.com',\n",
    "'somename.201903@someemail.com','my_name.201903@someemail.com',\n",
    "'201903myname@someemail.com', '201903.myname@someemail.com']\n",
    "\n",
    "#Looping untuk pengecekan Pass atau Not Pass\n",
    "for email in emails :\n",
    "\temail_check(email)"
   ]
  },
  {
   "cell_type": "markdown",
   "metadata": {},
   "source": [
    "# Congratulations!\n",
    "\n",
    "\n",
    "Selamat!\n",
    "Kamu berhasil menyelesaikan Project \"Data Engineer Challenge with Python!\"!\n",
    "\n",
    "Semangat untuk terus belajar di DQLab. "
   ]
  }
 ],
 "metadata": {
  "kernelspec": {
   "display_name": "Python 3",
   "language": "python",
   "name": "python3"
  },
  "language_info": {
   "codemirror_mode": {
    "name": "ipython",
    "version": 3
   },
   "file_extension": ".py",
   "mimetype": "text/x-python",
   "name": "python",
   "nbconvert_exporter": "python",
   "pygments_lexer": "ipython3",
   "version": "3.8.5"
  }
 },
 "nbformat": 4,
 "nbformat_minor": 4
}
